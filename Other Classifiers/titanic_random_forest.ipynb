{
 "cells": [
  {
   "cell_type": "code",
   "execution_count": 1,
   "id": "fifty-lunch",
   "metadata": {},
   "outputs": [],
   "source": [
    "import warnings\n",
    "\n",
    "warnings.simplefilter(action='ignore', category=Warning)\n",
    "\n",
    "import pandas as pd\n",
    "import numpy as np\n",
    "\n",
    "train_df = pd.read_csv('Datasets/train.csv')\n",
    "test_df = pd.read_csv('Datasets/test.csv')"
   ]
  },
  {
   "cell_type": "code",
   "execution_count": 10,
   "id": "hungarian-gospel",
   "metadata": {},
   "outputs": [
    {
     "data": {
      "text/plain": [
       "{'Capt': 70.0,\n",
       " 'Col': 58.0,\n",
       " 'Don': 40.0,\n",
       " 'Dr': 42.0,\n",
       " 'Jonkheer': 38.0,\n",
       " 'Lady': 48.0,\n",
       " 'Major': 48.5,\n",
       " 'Master': 4.6,\n",
       " 'Miss': 21.8,\n",
       " 'Mlle': 24.0,\n",
       " 'Mme': 24.0,\n",
       " 'Mr': 32.4,\n",
       " 'Mrs': 35.9,\n",
       " 'Ms': 28.0,\n",
       " 'Rev': 43.2,\n",
       " 'Sir': 49.0,\n",
       " 'the Countess': 33.0}"
      ]
     },
     "execution_count": 10,
     "metadata": {},
     "output_type": "execute_result"
    }
   ],
   "source": [
    "name_df = train_df['Name']\n",
    "titles = name_df.apply(lambda x: x.split(',')[1].split('.')[0].strip())\n",
    "title_list = np.unique(titles)\n",
    "\n",
    "train_df['titles'] = titles\n",
    "\n",
    "\n",
    "title_grp = train_df.groupby('titles')\n",
    "\n",
    "title_age_dict = {}\n",
    "\n",
    "for title in title_list:\n",
    "    title_age_dict[title] = title_grp.get_group(title)['Age'].mean()\n",
    "\n",
    "title_age_dict = {k:round(title_age_dict[k], 1) for k in title_age_dict}\n",
    "\n",
    "\n",
    "title_age_dict"
   ]
  },
  {
   "cell_type": "code",
   "execution_count": 12,
   "metadata": {},
   "outputs": [
    {
     "data": {
      "text/plain": [
       "\" for title in title_list:\\n    ages = title_grp.get_group(title)['Age']\\n    if ages.hasnans == True:\\n        ages = ages.fillna(title_age_dict[title])\\n        train_df['Age'].loc[ages.index.values] = ages.values \""
      ]
     },
     "execution_count": 12,
     "metadata": {},
     "output_type": "execute_result"
    }
   ],
   "source": [
    "'''\n",
    "now replacing all NaN values in age column\n",
    "'''\n",
    "\"\"\" for title in title_list:\n",
    "    ages = title_grp.get_group(title)['Age']\n",
    "    if ages.hasnans == True:\n",
    "        ages = ages.fillna(title_age_dict[title])\n",
    "        train_df['Age'].loc[ages.index.values] = ages.values \"\"\""
   ]
  },
  {
   "cell_type": "code",
   "execution_count": 3,
   "metadata": {},
   "outputs": [],
   "source": [
    "def df_cleaner(df):\n",
    "    df['Sex'] = df['Sex'].replace({'male': 1, 'female': 2})\n",
    "\n",
    "    name_df = df['Name']\n",
    "    titles = name_df.apply(lambda x: x.split(',')[1].split('.')[0].strip())\n",
    "    title_list = np.unique(titles)\n",
    "\n",
    "    df['titles'] = titles\n",
    "\n",
    "    title_grp = df.groupby('titles')\n",
    "    for title in title_list:\n",
    "        ages = title_grp.get_group(title)['Age']\n",
    "        if ages.hasnans == True:\n",
    "            ages = ages.fillna(title_age_dict[title])\n",
    "            df['Age'].loc[ages.index.values] = ages.values\n",
    "\n",
    "    return df\n",
    "\n"
   ]
  },
  {
   "cell_type": "code",
   "execution_count": 4,
   "metadata": {},
   "outputs": [],
   "source": [
    "train_df = df_cleaner(train_df)\n",
    "test_df = df_cleaner(test_df)"
   ]
  },
  {
   "cell_type": "code",
   "execution_count": 6,
   "metadata": {},
   "outputs": [],
   "source": [
    "x_train_df = train_df.iloc[:, [2, 4, 5]].values\n",
    "\n",
    "y_train_df = train_df.iloc[:, [1]].values\n",
    "\n",
    "x_test_df = test_df.iloc[:, [1, 3, 4]].values\n",
    "\n",
    "from sklearn.model_selection import train_test_split\n",
    "\n",
    "x_train, x_test, y_train, y_test = train_test_split(x_train_df, y_train_df, test_size = 0.25, random_state = 0)\n"
   ]
  },
  {
   "cell_type": "code",
   "execution_count": 7,
   "metadata": {},
   "outputs": [
    {
     "name": "stdout",
     "output_type": "stream",
     "text": [
      "Accuracy :  0.6278026905829597\n"
     ]
    }
   ],
   "source": [
    "from sklearn.preprocessing import StandardScaler\n",
    "\n",
    "sc_x = StandardScaler()\n",
    "x_train = sc_x.fit_transform(x_train) \n",
    "\n",
    "from sklearn.ensemble import RandomForestClassifier\n",
    "\n",
    "classifier = RandomForestClassifier()\n",
    "classifier.fit(x_train, y_train)\n",
    "\n",
    "y_pred = classifier.predict(x_test)\n",
    "\n",
    "from sklearn.metrics import accuracy_score\n",
    "\n",
    "print (\"Accuracy : \", accuracy_score(y_test, y_pred))"
   ]
  },
  {
   "cell_type": "code",
   "execution_count": 8,
   "metadata": {},
   "outputs": [],
   "source": [
    "x_test = sc_x.transform(x_test_df)\n",
    "\n",
    "y_pred = classifier.predict(x_test)"
   ]
  },
  {
   "cell_type": "code",
   "execution_count": 9,
   "metadata": {},
   "outputs": [],
   "source": [
    "\n",
    "submission = pd.DataFrame(test_df['PassengerId'])\n",
    "submission['Survived'] = y_pred\n",
    "\n",
    "submission.to_csv('submission_random_forest.csv', index=False)"
   ]
  },
  {
   "cell_type": "code",
   "execution_count": null,
   "metadata": {},
   "outputs": [],
   "source": []
  }
 ],
 "metadata": {
  "interpreter": {
   "hash": "2f6e72ab736cc90fa07d3aa53532b65885f1a761af9005c6a121814f1da0f836"
  },
  "kernelspec": {
   "display_name": "Python 3.8.1 64-bit",
   "name": "python3"
  },
  "language_info": {
   "codemirror_mode": {
    "name": "ipython",
    "version": 3
   },
   "file_extension": ".py",
   "mimetype": "text/x-python",
   "name": "python",
   "nbconvert_exporter": "python",
   "pygments_lexer": "ipython3",
   "version": "3.8.1"
  },
  "toc-autonumbering": false,
  "toc-showcode": false,
  "toc-showmarkdowntxt": false
 },
 "nbformat": 4,
 "nbformat_minor": 5
}
